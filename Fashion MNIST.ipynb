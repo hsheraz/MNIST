{
 "cells": [
  {
   "cell_type": "markdown",
   "metadata": {},
   "source": [
    "# Fashion MNIST"
   ]
  },
  {
   "cell_type": "markdown",
   "metadata": {},
   "source": [
    "Import Packages"
   ]
  },
  {
   "cell_type": "code",
   "execution_count": 4,
   "metadata": {},
   "outputs": [],
   "source": [
    "import os # processing file path\n",
    "import gzip # unzip the .gz file, not used here\n",
    "import numpy as np # linear algebra\n",
    "import pandas as pd # data processing, CSV file I/O (e.g. pd.read_csv)\n",
    "import matplotlib.pyplot as plt # data visualization\n",
    "import tensorflow as tf"
   ]
  },
  {
   "cell_type": "markdown",
   "metadata": {},
   "source": [
    "Load datasets"
   ]
  },
  {
   "cell_type": "code",
   "execution_count": 5,
   "metadata": {},
   "outputs": [],
   "source": [
    "def load_mnist_fashion(path, type_file=''):\n",
    "\n",
    "    \"\"\"Load MNIST data from `path`\"\"\"\n",
    "    labels_path = os.path.join(path,'%s-labels-idx1-ubyte.gz'% type_file)\n",
    "    images_path = os.path.join(path,'%s-images-idx3-ubyte.gz'% type_file)\n",
    "    \n",
    "    with gzip.open(labels_path,'rb') as lbpath:\n",
    "        labels = np.frombuffer(lbpath.read(), dtype=np.uint8,\n",
    "                               offset=8)\n",
    "    \n",
    "    with gzip.open(images_path,'rb') as imgpath:\n",
    "        images = np.frombuffer(imgpath.read(), dtype=np.uint8,\n",
    "                               offset=16).reshape(len(labels), 784)\n",
    "\n",
    "    return images, labels"
   ]
  },
  {
   "cell_type": "code",
   "execution_count": 6,
   "metadata": {},
   "outputs": [],
   "source": [
    "# Cleaning up variables to prevent loading data multiple times since everything I previously wrote did not get saved, I want to make sure there is no duplication of data\n",
    "try:\n",
    "    del X_train, y_train\n",
    "    del X_test, y_test\n",
    "    print('Clear previously loaded data.')\n",
    "except:\n",
    "    pass"
   ]
  },
  {
   "cell_type": "code",
   "execution_count": 7,
   "metadata": {},
   "outputs": [],
   "source": [
    "x_train, y_train = load_mnist_fashion('/mnt/bcache0/home/hsheraz/notebooks/MNIST/data/fashion', type_file='train')\n",
    "x_test, y_test = load_mnist_fashion('/mnt/bcache0/home/hsheraz/notebooks/MNIST/data/fashion', type_file='t10k')\n",
    "m_train = x_train.shape[0]\n",
    "m_test = x_test.shape[0]\n",
    "\n",
    "\n",
    "##sess=tf.compat.v1.InteractiveSession()\n"
   ]
  },
  {
   "cell_type": "code",
   "execution_count": 8,
   "metadata": {},
   "outputs": [
    {
     "name": "stdout",
     "output_type": "stream",
     "text": [
      "x_train shape: (784, 60000)\n",
      "y_train shape: (784, 10000)\n",
      "Number of training examples: m_train = 60000\n",
      "Number of testing examples: m_test = 10000\n",
      "sanity check after reshaping: [0 0 0 0 0 0 0 0 0 0]\n"
     ]
    }
   ],
   "source": [
    "#reshaping\n",
    "\n",
    "train_set_x_flatten = x_train.reshape(x_train.shape[0],-1).T\n",
    "test_set_x_flatten = x_test.reshape(x_test.shape[0],-1).T\n",
    "\n",
    "print(\"x_train shape: \" + str(train_set_x_flatten.shape))\n",
    "print(\"y_train shape: \" + str(test_set_x_flatten.shape))\n",
    "print (\"Number of training examples: m_train = \" + str(m_train))\n",
    "print (\"Number of testing examples: m_test = \" + str(m_test))\n",
    "print (\"sanity check after reshaping: \" + str(train_set_x_flatten[0:10,0]))\n",
    "\n",
    "train_set_x = train_set_x_flatten/255.\n",
    "test_set_x = test_set_x_flatten/255\n"
   ]
  },
  {
   "cell_type": "code",
   "execution_count": 9,
   "metadata": {},
   "outputs": [
    {
     "name": "stdout",
     "output_type": "stream",
     "text": [
      "T-shirt/top:6000\n"
     ]
    },
    {
     "data": {
      "image/png": "[encoded data removed]",
      "text/plain": [
       "<Figure size 432x288 with 1 Axes>"
      ]
     },
     "metadata": {},
     "output_type": "display_data"
    },
    {
     "name": "stdout",
     "output_type": "stream",
     "text": [
      "Trouser:6000\n"
     ]
    },
    {
     "data": {
      "image/png": "[encoded data removed]",
      "text/plain": [
       "<Figure size 432x288 with 1 Axes>"
      ]
     },
     "metadata": {},
     "output_type": "display_data"
    },
    {
     "name": "stdout",
     "output_type": "stream",
     "text": [
      "Pullover:6000\n"
     ]
    },
    {
     "data": {
      "image/png": "[encoded data removed]",
      "text/plain": [
       "<Figure size 432x288 with 1 Axes>"
      ]
     },
     "metadata": {},
     "output_type": "display_data"
    },
    {
     "name": "stdout",
     "output_type": "stream",
     "text": [
      "Dress:6000\n"
     ]
    },
    {
     "data": {
      "image/png": "[encoded data removed]",
      "text/plain": [
       "<Figure size 432x288 with 1 Axes>"
      ]
     },
     "metadata": {},
     "output_type": "display_data"
    },
    {
     "name": "stdout",
     "output_type": "stream",
     "text": [
      "Coat:6000\n"
     ]
    },
    {
     "data": {
      "image/png": "[encoded data removed]",
      "text/plain": [
       "<Figure size 432x288 with 1 Axes>"
      ]
     },
     "metadata": {},
     "output_type": "display_data"
    },
    {
     "name": "stdout",
     "output_type": "stream",
     "text": [
      "Sandal:6000\n"
     ]
    },
    {
     "data": {
      "image/png": "[encoded data removed]",
      "text/plain": [
       "<Figure size 432x288 with 1 Axes>"
      ]
     },
     "metadata": {},
     "output_type": "display_data"
    },
    {
     "name": "stdout",
     "output_type": "stream",
     "text": [
      "Shirt:6000\n"
     ]
    },
    {
     "data": {
      "image/png": "[encoded data removed]",
      "text/plain": [
       "<Figure size 432x288 with 1 Axes>"
      ]
     },
     "metadata": {},
     "output_type": "display_data"
    },
    {
     "name": "stdout",
     "output_type": "stream",
     "text": [
      "Sneaker:6000\n"
     ]
    },
    {
     "data": {
      "image/png": "[encoded data removed]",
      "text/plain": [
       "<Figure size 432x288 with 1 Axes>"
      ]
     },
     "metadata": {},
     "output_type": "display_data"
    },
    {
     "name": "stdout",
     "output_type": "stream",
     "text": [
      "Bag:6000\n"
     ]
    },
    {
     "data": {
      "image/png": "[encoded data removed]",
      "text/plain": [
       "<Figure size 432x288 with 1 Axes>"
      ]
     },
     "metadata": {},
     "output_type": "display_data"
    },
    {
     "name": "stdout",
     "output_type": "stream",
     "text": [
      "Ankle boot:6000\n"
     ]
    },
    {
     "data": {
      "image/png": "[encoded data removed]",
      "text/plain": [
       "<Figure size 432x288 with 1 Axes>"
      ]
     },
     "metadata": {},
     "output_type": "display_data"
    }
   ],
   "source": [
    "# plot 9 figures. I couldnt figure out how to associate each figure to their respected values\n",
    "label_dict = {0: 'T-shirt/top',1: 'Trouser',2: 'Pullover',3: 'Dress',4: 'Coat',5: 'Sandal',6: 'Shirt',7: 'Sneaker',8: 'Bag',9: 'Ankle boot'}\n",
    "num_classes = len(label_dict)\n",
    "\n",
    "def find_item( item, x=x_train, y=y_train ):\n",
    "    return [ image.reshape(28,28) for image,label in zip(x,y) if item == label_dict[label]];\n",
    "\n",
    "\n",
    "for item in label_dict.values():\n",
    "    category = find_item(item);\n",
    "    print( item, end=':' )\n",
    "    print( len(category) )\n",
    "    fig, ax = plt.subplots()\n",
    "    im = ax.imshow( category[1], cmap='gray', interpolation='none')\n",
    "    plt.show()\n"
   ]
  },
  {
   "cell_type": "code",
   "execution_count": 31,
   "metadata": {},
   "outputs": [],
   "source": [
    "## Subsample the data\n",
    "#m_train = 59000\n",
    "#m_validation = 1000\n",
    "#\n",
    "#mask = list(range(m_train, m_train + m_validation))\n",
    "#x_val = x_train[mask]\n",
    "#y_val = y_train[mask]\n",
    "#\n",
    "#mask = list(range(m_train))\n",
    "#x_train = x_train[mask]\n",
    "#y_train = y_train[mask]\n",
    "#\n",
    "#mask = list(range(m_test))\n",
    "#x_test = x_test[mask]\n",
    "#y_test = y_test[mask]\n",
    "\n",
    "#train_y_one_hot = sess.run(tf.one_hot(y_train, depth=10, name=\"One_hot_op\"))\n",
    "#test_y_one_hot = sess.run(tf.one_hot(y_test, depth=10, name='testonehot_op'))"
   ]
  },
  {
   "cell_type": "code",
   "execution_count": 10,
   "metadata": {},
   "outputs": [
    {
     "name": "stdout",
     "output_type": "stream",
     "text": [
      "X_train shape: (60000, 784)\n",
      "y_train shape: (60000,)\n",
      "X_test shape: (10000, 784)\n",
      "y_test shape: (10000,)\n",
      "Number of training examples: m_train = 60000\n",
      "Number of testing examples: m_test = 10000\n"
     ]
    }
   ],
   "source": [
    "print(\"X_train shape: \" + str(x_train.shape))\n",
    "print(\"y_train shape: \" + str(y_train.shape))\n",
    "#print(\"X_val shape: \" + str(x_val.shape))\n",
    "#print(\"y_val shape: \" + str(x_val.shape))\n",
    "print(\"X_test shape: \" + str(x_test.shape))\n",
    "print(\"y_test shape: \" + str(y_test.shape))\n",
    "print (\"Number of training examples: m_train = \" + str(m_train))\n",
    "#print (\"Number of validation examples: m_validation = \" + str(m_validation))\n",
    "print (\"Number of testing examples: m_test = \" + str(m_test))"
   ]
  },
  {
   "cell_type": "code",
   "execution_count": 11,
   "metadata": {},
   "outputs": [
    {
     "name": "stdout",
     "output_type": "stream",
     "text": [
      "Feature Values: \n",
      "From 0 to 255\n",
      "Data type: uint8\n",
      "\n",
      "Label Values: \n",
      "{0, 1, 2, 3, 4, 5, 6, 7, 8, 9}\n",
      "Data type: uint8\n"
     ]
    }
   ],
   "source": [
    "print(\"Feature Values: \\nFrom \" + str(np.min(x_train)) + \" to \" + str(np.max(x_train)))\n",
    "print(\"Data type: \" + str(x_train.dtype))\n",
    "print(\"\\nLabel Values: \")\n",
    "print(set(list(y_train)))\n",
    "print(\"Data type: \" + str(y_train.dtype))"
   ]
  },
  {
   "cell_type": "code",
   "execution_count": null,
   "metadata": {},
   "outputs": [],
   "source": [
    "#reshape the images \n",
    "#x_train = x_train.reshape(59000,28,28,1)\n",
    "#x_test = x_test.reshape(10000,28,28,1)\n",
    "\n",
    "def shaping(data, target):\n",
    "    data = np.array(data, dtype=np.uint8)\n",
    "    target = np.array(target, dtype=np.uint8)\n",
    "    data = data.reshape(data.shape[0], 784)\n",
    "    target = tf.one_hot(target,num_classes)\n",
    "    data = data.astype('float32')\n",
    "    data /= 255\n",
    "    return data, target\n",
    "\n",
    "train_data, train_target = shaping(x_train,y_train)\n",
    "print(\"train shape: \" + str(train_data.shape))\n",
    "print(\"train_target: \" + str(train_target.shape))\n",
    "\n",
    "print(\"x_train: \" + str(x_train.shape))\n",
    "print(\"y_train: \" + str(y_train.shape))\n"
   ]
  },
  {
   "cell_type": "markdown",
   "metadata": {},
   "source": [
    "#  Neural Network"
   ]
  },
  {
   "cell_type": "code",
   "execution_count": 4,
   "metadata": {},
   "outputs": [],
   "source": [
    "from numpy.random import uniform\n",
    "import numpy as np \n",
    "DTYPE = 'float32'\n",
    "EPS = np.finfo(np.double).eps\n",
    "\n",
    "\n",
    "\n",
    "import tensorflow.compat.v1 as tf\n",
    "\n",
    "\n",
    "def construct_model(n_inputs, n_hidden, n_outputs, lr):\n",
    "    \"\"\"Declare Parameters\n",
    "    \"\"\"\n",
    "    # initialization from Glorot and Bengio 2010.\n",
    "    W_hid = tf.Variable( uniform( low=-4 * np.sqrt(6.0 / (n_inputs + n_hidden)), \\\n",
    "                                  high=4 * np.sqrt(6.0 / (n_inputs + n_hidden)),\\\n",
    "                                  size=(n_inputs,n_hidden) \\\n",
    "                                ).astype('float32'), \\\n",
    "                         name='W_h' )\n",
    "    \n",
    "    b_hid = tf.Variable( np.zeros( [n_hidden], dtype=DTYPE ), \\\n",
    "                         name='b_h' )\n",
    "\n",
    "    W_out = tf.Variable( uniform( low=-4 * np.sqrt(6.0 / (n_hidden + n_outputs)),\\\n",
    "                                  high=4 * np.sqrt(6.0 / (n_hidden + n_outputs)),\\\n",
    "                                  size=(n_hidden, n_outputs) \\\n",
    "                                ).astype('float32'), \\\n",
    "                         name='W_o' )\n",
    "    \n",
    "    b_out =  tf.Variable( tf.zeros([n_outputs]), \n",
    "                          name='b_o' )\n",
    "    \n",
    "    input_x = tf.placeholder( \"float\", [None, n_inputs] ) # create symbolic variables\n",
    "    \n",
    "    #The label.\n",
    "    label_y = tf.placeholder( \"float\", [None, n_outputs] )\n",
    "    \n",
    "    h_in = tf.nn.bias_add(tf.matmul(input_x,W_hid),b_hid) # define net input calculation to hidden units\n",
    "    h_out = tf.sigmoid(h_in)  # define squashing function (non-linearity) to hidden units\n",
    "    \n",
    "    o_in = tf.nn.bias_add(tf.matmul(h_out, W_out), b_out) # define net input calculation to output units\n",
    "    y_pred = tf.sigmoid(o_in) # define squashing function (non-linearity) to output units\n",
    "    \n",
    "    cost = -tf.reduce_mean( label_y * tf.log(y_pred + EPS) + \\\n",
    "                            (1 - label_y) * tf.log(1 - y_pred + EPS) )\n",
    "        # add EPS to prevent taking logarithm of zeron when y_pred = 0 or 1\n",
    "        # if label_y and y_pred are both 0, then both top half and bottom half of the equation equal almost zero\n",
    "        # if label_y and y_pred are both 1, then both top half and bottom half of the equation equal almost zero\n",
    "        # if label_y and y_pred differ are 0 and 1 (respectively), then top half of the equation is zero and bottom -16\n",
    "        # if label_y and y_pred differ are 1 and 0 (respectively), then top half of the equation is -16 and bottom zero\n",
    "\n",
    "    train_op = tf.train.GradientDescentOptimizer(lr).minimize(cost)\n",
    "\n",
    "    # generate code to compute accuracy\n",
    "    # if element > 0.5 replace with 1.\n",
    "    bool_vec = tf.greater(y_pred, 0.5)\n",
    "    correct_prediction = tf.equal(label_y, tf.cast(bool_vec, tf.float32))\n",
    "    # convert all boolean to float, to calculate percentage\n",
    "    accuracy = tf.reduce_mean(tf.cast(correct_prediction, \"float\"))\n",
    "    \n",
    "    return input_x, label_y, accuracy, cost, train_op, y_pred;\n"
   ]
  },
  {
   "cell_type": "code",
   "execution_count": null,
   "metadata": {},
   "outputs": [],
   "source": [
    "input_x, label_y, accuracy, cost, train_op, y_pred = construct_model( 784, 784, 10, 0.1 )\n",
    "tf.trainable_variables()"
   ]
  },
  {
   "cell_type": "code",
   "execution_count": null,
   "metadata": {},
   "outputs": [],
   "source": [
    "import matplotlib.pyplot as plt\n",
    "\n",
    "def train_network(epochs):\n",
    "    sess = tf.Session()   # execute the tensor flow session\n",
    "    \n",
    "    \n",
    "    \n",
    "    sess.run(tf.global_variables_initializer())   # initialize all the global variables\n",
    "\n",
    "    train_costs = np.zeros(epochs, dtype='float32');\n",
    "    train_accuracies = np.zeros(epochs, dtype='float32');\n",
    "    \n",
    "    ### TRAINING BEGIN ###\n",
    "    print (\"Epoch  Cost   Accuracy\")\n",
    "    for i in range(epochs):\n",
    "        train_cost, train_accuracy,_ = sess.run([cost, accuracy, train_op], feed_dict={input_x: train_data, label_y: train_y_one_hot})\n",
    "        train_costs[i] = train_cost\n",
    "        train_accuracies[i] = train_accuracy\n",
    "        if i % 200 == 0:\n",
    "            print (\"%05d  %5.3f  %5.3f\" % (i,train_cost,train_accuracy));\n",
    "    print (\"%05d  %5.3f  %5.3f\" % (i,train_cost,train_accuracy));        \n",
    "    ### TRAINING END ###\n",
    "    \n",
    "    return train_costs, train_accuracies, y_pred, sess;"
   ]
  },
  {
   "cell_type": "code",
   "execution_count": null,
   "metadata": {},
   "outputs": [],
   "source": [
    "train_costs, train_accuracies, y_pred, sess = train_network(20000)"
   ]
  },
  {
   "cell_type": "code",
   "execution_count": null,
   "metadata": {},
   "outputs": [],
   "source": [
    "# try modifying the number of processers in the middle layer, when calling out to construct model try changing the second 784. change it to the powerof 2. How it trains with the double number of hidden units. doubleit 1578 and also try half of 784\n",
    "# make sure you're changing the second parameter of hidden units\n",
    "# mmake sure you re-run everything everything\n",
    "\n",
    "\n",
    "%matplotlib inline\n",
    "plt.rcParams['figure.figsize'] = (10.0, 8.0) # set default size of plots\n",
    "plt.rcParams['image.interpolation'] = 'nearest'\n",
    "plt.rcParams['image.cmap'] = 'gray'\n",
    "plt.subplots_adjust(wspace =0, hspace =0.3)\n",
    "\n",
    "\n",
    "# Plot the loss function and train / validation accuracies\n",
    "\n",
    "plt.subplot(2, 1, 1)\n",
    "plt.plot(train_costs)\n",
    "plt.title('Loss history Train')\n",
    "plt.xlabel('Iteration')\n",
    "plt.ylabel('Loss')\n",
    "\n",
    "plt.subplot(2, 1, 2)\n",
    "plt.plot(train_accuracies)\n",
    "plt.title('Classification accuracy history Train')\n",
    "plt.xlabel('Epoch')\n",
    "plt.ylabel('Clasification accuracy')\n",
    "plt.show();\n",
    "\n",
    "# Plot the loss function and test accuracies\n",
    "\n",
    "plt.subplot(2, 1, 1)\n",
    "plt.plot(test_costs)\n",
    "plt.title('Loss history Test')\n",
    "plt.xlabel('Iteration')\n",
    "plt.ylabel('Loss')\n",
    "\n",
    "plt.subplot(2, 1, 2)\n",
    "plt.plot(test_accuracies)\n",
    "plt.title('Classification accuracy history Test')\n",
    "plt.xlabel('Epoch')\n",
    "plt.ylabel('Clasification accuracy')\n",
    "plt.show();"
   ]
  },
  {
   "cell_type": "code",
   "execution_count": null,
   "metadata": {},
   "outputs": [],
   "source": [
    "hidden_size = 10\n",
    "num_classes = 10\n",
    "\n",
    "results = {}\n",
    "best_val = -1\n",
    "best_net = None\n",
    "\n",
    "learning_rates = np.array([2.5,5,7.5,10])*1e-4\n",
    "regularization_strengths = [0.25,0.5,0.75,1]\n",
    "\n",
    "for lr in learning_rates:\n",
    "    for reg in regularization_strengths:\n",
    "        net = Two_layer_model(input_size, hidden_size, num_classes)\n",
    "        stats = net.train(X_train, y_train, X_val, y_val,\n",
    "        num_epochs=10, batch_size=1024,\n",
    "        learning_rate=lr, learning_rate_decay=0.95,\n",
    "        reg= reg, verbose=False)\n",
    "        val_acc = (net.predict(X_val) == y_val).mean()\n",
    "        if val_acc > best_val:\n",
    "            best_val = val_acc\n",
    "            best_net = net         \n",
    "        results[(lr,reg)] = val_acc\n",
    "\n",
    "\n",
    "for lr, reg in sorted(results):\n",
    "    val_acc = results[(lr, reg)]\n",
    "    print('lr %e reg %e val accuracy: %f' % (\n",
    "                lr, reg,  val_acc))\n",
    "    \n",
    "print('best validation accuracy achieved during cross-validation: %f' % best_val)"
   ]
  },
  {
   "cell_type": "code",
   "execution_count": null,
   "metadata": {},
   "outputs": [],
   "source": [
    "test_acc = (best_net.predict(X_test) == y_test).mean()\n",
    "print('Test accuracy: ', test_acc)"
   ]
  },
  {
   "cell_type": "code",
   "execution_count": null,
   "metadata": {},
   "outputs": [],
   "source": []
  }
 ],
 "metadata": {
  "celltoolbar": "Raw Cell Format",
  "kernelspec": {
   "display_name": "Python 3",
   "language": "python",
   "name": "python3"
  },
  "language_info": {
   "codemirror_mode": {
    "name": "ipython",
    "version": 3
   },
   "file_extension": ".py",
   "mimetype": "text/x-python",
   "name": "python",
   "nbconvert_exporter": "python",
   "pygments_lexer": "ipython3",
   "version": "3.5.2"
  }
 },
 "nbformat": 4,
 "nbformat_minor": 2
}
